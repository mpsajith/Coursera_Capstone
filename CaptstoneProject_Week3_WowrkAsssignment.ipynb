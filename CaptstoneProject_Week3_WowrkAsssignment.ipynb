{
    "nbformat_minor": 1, 
    "cells": [
        {
            "source": "#PART1 - Converting WIKI table into PANDA DATAFRAME\n# Import libraries\nimport pandas as pd\nimport requests\nfrom bs4 import BeautifulSoup \n# Webscrapping the URL\nurl = \"https://en.wikipedia.org/wiki/List_of_postal_codes_of_Canada:_M\"\npage = requests.get(url)\nprint(page.status_code)\nsoup = BeautifulSoup(page.text,\"html.parser\")", 
            "cell_type": "code", 
            "execution_count": 1, 
            "outputs": [
                {
                    "output_type": "stream", 
                    "name": "stdout", 
                    "text": "200\n"
                }
            ], 
            "metadata": {}
        }, 
        {
            "source": "# READ Table\nTable_array = []\nTable_text_element = soup.find_all( class_= \"wikitable sortable\")\nTable_text_element=Table_text_element[0]\nfor row in Table_text_element.find_all('tr'):\n        for cell in row.find_all('td'):\n             Table_array.append(cell.text)\nTable_array1string=', '.join(Table_array)\nTable_array1string = 'Column,PostCode,Borough,Neighbourhood' + '\\n, '+ Table_array1string\nfh = open ('Testfile.txt', 'w',)\nfh.write(Table_array1string)\nfh.close()\ndf = pd.read_csv('Testfile.txt')\n#Remove the unwanted Column as part of Cleansing\ndf.drop('Column',axis=1,inplace=True)", 
            "cell_type": "code", 
            "execution_count": 2, 
            "outputs": [], 
            "metadata": {}
        }, 
        {
            "source": "# q1 Only process the cells that have an assigned borough. Ignore cells with a borough that is Not assigned.\n# Creating new dataframe excluding column - Borough having value \ndf_q1= df[df['Borough'] != ' Not assigned']\nprint(df_q1.shape)\ndf_q1.head()", 
            "cell_type": "code", 
            "execution_count": 4, 
            "outputs": [
                {
                    "output_type": "stream", 
                    "name": "stdout", 
                    "text": "(211, 3)\n"
                }, 
                {
                    "output_type": "execute_result", 
                    "metadata": {}, 
                    "data": {
                        "text/html": "<div>\n<style scoped>\n    .dataframe tbody tr th:only-of-type {\n        vertical-align: middle;\n    }\n\n    .dataframe tbody tr th {\n        vertical-align: top;\n    }\n\n    .dataframe thead th {\n        text-align: right;\n    }\n</style>\n<table border=\"1\" class=\"dataframe\">\n  <thead>\n    <tr style=\"text-align: right;\">\n      <th></th>\n      <th>PostCode</th>\n      <th>Borough</th>\n      <th>Neighbourhood</th>\n    </tr>\n  </thead>\n  <tbody>\n    <tr>\n      <th>2</th>\n      <td>M3A</td>\n      <td>North York</td>\n      <td>Parkwoods</td>\n    </tr>\n    <tr>\n      <th>3</th>\n      <td>M4A</td>\n      <td>North York</td>\n      <td>Victoria Village</td>\n    </tr>\n    <tr>\n      <th>4</th>\n      <td>M5A</td>\n      <td>Downtown Toronto</td>\n      <td>Harbourfront</td>\n    </tr>\n    <tr>\n      <th>5</th>\n      <td>M5A</td>\n      <td>Downtown Toronto</td>\n      <td>Regent Park</td>\n    </tr>\n    <tr>\n      <th>6</th>\n      <td>M6A</td>\n      <td>North York</td>\n      <td>Lawrence Heights</td>\n    </tr>\n  </tbody>\n</table>\n</div>", 
                        "text/plain": "  PostCode            Borough      Neighbourhood\n2      M3A         North York          Parkwoods\n3      M4A         North York   Victoria Village\n4      M5A   Downtown Toronto       Harbourfront\n5      M5A   Downtown Toronto        Regent Park\n6      M6A         North York   Lawrence Heights"
                    }, 
                    "execution_count": 4
                }
            ], 
            "metadata": {}
        }, 
        {
            "source": "#Q3 If a cell has a borough but a Not assigned neighborhood, then the neighborhood will be the same as the borough. \n#Replacing Neighbourhood value with borough if its ' Not assigned'\ndf_q1.loc[df_q1['Neighbourhood'] == ' Not assigned', 'Neighbourhood'] = df_q1.Borough\nprint (df_q1.shape)\n\n#Q2 More than one neighborhood can exist in one postal code area. \n#For example, in the table on the Wikipedia page, you will notice that M5A is listed twice and has two neighborhoods: \n#Harbourfront and Regent Park. These two rows will be combined into one row with the neighborhoods separated with a comma as \n#shown in row 11 in the above table.\n\nres= df_q1.groupby(['PostCode','Borough']).Neighbourhood.agg([('Neighbourhood', ', '.join)]).reset_index()\nprint(\"Number of rows in the final dataframe as per .Shape \", res.shape)\n\nres.columns = ['Postal Code', 'Borough', 'Neighbourhood']\nres.head() \nres.tail()\n# END OF PART1", 
            "cell_type": "code", 
            "execution_count": 5, 
            "outputs": [
                {
                    "output_type": "stream", 
                    "name": "stdout", 
                    "text": "(211, 3)\nNumber of rows in the final dataframe as per .Shape  (103, 3)\n"
                }, 
                {
                    "output_type": "stream", 
                    "name": "stderr", 
                    "text": "/opt/conda/envs/Python36/lib/python3.6/site-packages/pandas/core/indexing.py:190: SettingWithCopyWarning: \nA value is trying to be set on a copy of a slice from a DataFrame\n\nSee the caveats in the documentation: http://pandas.pydata.org/pandas-docs/stable/indexing.html#indexing-view-versus-copy\n  self._setitem_with_indexer(indexer, value)\n/opt/conda/envs/Python36/lib/python3.6/site-packages/ipykernel/__main__.py:3: SettingWithCopyWarning: \nA value is trying to be set on a copy of a slice from a DataFrame\n\nSee the caveats in the documentation: http://pandas.pydata.org/pandas-docs/stable/indexing.html#indexing-view-versus-copy\n  app.launch_new_instance()\n"
                }, 
                {
                    "output_type": "execute_result", 
                    "metadata": {}, 
                    "data": {
                        "text/html": "<div>\n<style scoped>\n    .dataframe tbody tr th:only-of-type {\n        vertical-align: middle;\n    }\n\n    .dataframe tbody tr th {\n        vertical-align: top;\n    }\n\n    .dataframe thead th {\n        text-align: right;\n    }\n</style>\n<table border=\"1\" class=\"dataframe\">\n  <thead>\n    <tr style=\"text-align: right;\">\n      <th></th>\n      <th>Postal Code</th>\n      <th>Borough</th>\n      <th>Neighbourhood</th>\n    </tr>\n  </thead>\n  <tbody>\n    <tr>\n      <th>98</th>\n      <td>M9N</td>\n      <td>York</td>\n      <td>Weston</td>\n    </tr>\n    <tr>\n      <th>99</th>\n      <td>M9P</td>\n      <td>Etobicoke</td>\n      <td>Westmount</td>\n    </tr>\n    <tr>\n      <th>100</th>\n      <td>M9R</td>\n      <td>Etobicoke</td>\n      <td>Kingsview Village,  Martin Grove Gardens,  Ri...</td>\n    </tr>\n    <tr>\n      <th>101</th>\n      <td>M9V</td>\n      <td>Etobicoke</td>\n      <td>Albion Gardens,  Beaumond Heights,  Humbergat...</td>\n    </tr>\n    <tr>\n      <th>102</th>\n      <td>M9W</td>\n      <td>Etobicoke</td>\n      <td>Northwest</td>\n    </tr>\n  </tbody>\n</table>\n</div>", 
                        "text/plain": "    Postal Code     Borough                                      Neighbourhood\n98          M9N        York                                             Weston\n99          M9P   Etobicoke                                          Westmount\n100         M9R   Etobicoke   Kingsview Village,  Martin Grove Gardens,  Ri...\n101         M9V   Etobicoke   Albion Gardens,  Beaumond Heights,  Humbergat...\n102         M9W   Etobicoke                                          Northwest"
                    }, 
                    "execution_count": 5
                }
            ], 
            "metadata": {
                "scrolled": true
            }
        }, 
        {
            "source": "# PART 2 - MERGING IT WITH GEOSPATIAL DATA BEING PROVIDED\n# Reading it from the geo file -http://cocl.us/Geospatial_data\nprint(type(res))\nurl = \"http://cocl.us/Geospatial_data\"\ngeodf = pd.read_csv(url)\ngeodf.columns = ['GeoPostCode','Latitude', 'Longitude']\n", 
            "cell_type": "code", 
            "execution_count": 8, 
            "outputs": [
                {
                    "output_type": "stream", 
                    "name": "stdout", 
                    "text": "<class 'pandas.core.frame.DataFrame'>\n"
                }
            ], 
            "metadata": {}
        }, 
        {
            "source": "# Quick verification & Comparison with the earlier data frame  res in Part1 , before we merge it.\nprint(geodf.head())\nprint(geodf.tail())\n", 
            "cell_type": "code", 
            "execution_count": 9, 
            "outputs": [
                {
                    "output_type": "stream", 
                    "name": "stdout", 
                    "text": "  GeoPostCode   Latitude  Longitude\n0         M1B  43.806686 -79.194353\n1         M1C  43.784535 -79.160497\n2         M1E  43.763573 -79.188711\n3         M1G  43.770992 -79.216917\n4         M1H  43.773136 -79.239476\n    GeoPostCode   Latitude  Longitude\n98          M9N  43.706876 -79.518188\n99          M9P  43.696319 -79.532242\n100         M9R  43.688905 -79.554724\n101         M9V  43.739416 -79.588437\n102         M9W  43.706748 -79.594054\n"
                }
            ], 
            "metadata": {}
        }, 
        {
            "source": "Concatdf = pd.concat([res,geodf], axis=1)\nfinalgeodf=Concatdf.drop(['GeoPostCode'] , axis=1)\nfinalgeodf.head()\n# End of Part2", 
            "cell_type": "code", 
            "execution_count": 55, 
            "outputs": [
                {
                    "output_type": "execute_result", 
                    "metadata": {}, 
                    "data": {
                        "text/html": "<div>\n<style scoped>\n    .dataframe tbody tr th:only-of-type {\n        vertical-align: middle;\n    }\n\n    .dataframe tbody tr th {\n        vertical-align: top;\n    }\n\n    .dataframe thead th {\n        text-align: right;\n    }\n</style>\n<table border=\"1\" class=\"dataframe\">\n  <thead>\n    <tr style=\"text-align: right;\">\n      <th></th>\n      <th>Postal Code</th>\n      <th>Borough</th>\n      <th>Neighbourhood</th>\n      <th>Latitude</th>\n      <th>Longitude</th>\n    </tr>\n  </thead>\n  <tbody>\n    <tr>\n      <th>0</th>\n      <td>M1B</td>\n      <td>Scarborough</td>\n      <td>Rouge,  Malvern</td>\n      <td>43.806686</td>\n      <td>-79.194353</td>\n    </tr>\n    <tr>\n      <th>1</th>\n      <td>M1C</td>\n      <td>Scarborough</td>\n      <td>Highland Creek,  Rouge Hill,  Port Union</td>\n      <td>43.784535</td>\n      <td>-79.160497</td>\n    </tr>\n    <tr>\n      <th>2</th>\n      <td>M1E</td>\n      <td>Scarborough</td>\n      <td>Guildwood,  Morningside,  West Hill</td>\n      <td>43.763573</td>\n      <td>-79.188711</td>\n    </tr>\n    <tr>\n      <th>3</th>\n      <td>M1G</td>\n      <td>Scarborough</td>\n      <td>Woburn</td>\n      <td>43.770992</td>\n      <td>-79.216917</td>\n    </tr>\n    <tr>\n      <th>4</th>\n      <td>M1H</td>\n      <td>Scarborough</td>\n      <td>Cedarbrae</td>\n      <td>43.773136</td>\n      <td>-79.239476</td>\n    </tr>\n  </tbody>\n</table>\n</div>", 
                        "text/plain": "  Postal Code       Borough                              Neighbourhood  \\\n0         M1B   Scarborough                            Rouge,  Malvern   \n1         M1C   Scarborough   Highland Creek,  Rouge Hill,  Port Union   \n2         M1E   Scarborough        Guildwood,  Morningside,  West Hill   \n3         M1G   Scarborough                                     Woburn   \n4         M1H   Scarborough                                  Cedarbrae   \n\n    Latitude  Longitude  \n0  43.806686 -79.194353  \n1  43.784535 -79.160497  \n2  43.763573 -79.188711  \n3  43.770992 -79.216917  \n4  43.773136 -79.239476  "
                    }, 
                    "execution_count": 55
                }
            ], 
            "metadata": {}
        }, 
        {
            "source": "# PART 3 - ", 
            "cell_type": "code", 
            "execution_count": null, 
            "outputs": [], 
            "metadata": {}
        }
    ], 
    "nbformat": 4, 
    "metadata": {
        "kernelspec": {
            "display_name": "Python 3.6", 
            "name": "python3", 
            "language": "python"
        }, 
        "language_info": {
            "mimetype": "text/x-python", 
            "nbconvert_exporter": "python", 
            "version": "3.6.8", 
            "name": "python", 
            "pygments_lexer": "ipython3", 
            "file_extension": ".py", 
            "codemirror_mode": {
                "version": 3, 
                "name": "ipython"
            }
        }
    }
}